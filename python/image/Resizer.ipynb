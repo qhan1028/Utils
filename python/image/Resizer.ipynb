{
 "cells": [
  {
   "cell_type": "markdown",
   "metadata": {},
   "source": [
    "# Image Resizer"
   ]
  },
  {
   "cell_type": "code",
   "execution_count": 1,
   "metadata": {},
   "outputs": [],
   "source": [
    "import argparse\n",
    "import cv2\n",
    "import numpy as np\n",
    "import os.path as osp\n",
    "\n",
    "METHODS = {\n",
    "    'nearest': cv2.INTER_NEAREST,\n",
    "    'linear': cv2.INTER_LINEAR,\n",
    "    'cubic': cv2.INTER_CUBIC,\n",
    "    'area': cv2.INTER_AREA,\n",
    "    'lanczos4': cv2.INTER_LANCZOS4\n",
    "}"
   ]
  },
  {
   "cell_type": "code",
   "execution_count": 2,
   "metadata": {},
   "outputs": [],
   "source": [
    "def _process_image(img, width, height, method):\n",
    "    h, w, c = img.shape\n",
    "    \n",
    "    print('(w, h): (%d, %d) -> (%d, %d)' % (w, h, width, height))\n",
    "    return cv2.resize(img, (width, height), method)"
   ]
  },
  {
   "cell_type": "code",
   "execution_count": 3,
   "metadata": {},
   "outputs": [],
   "source": [
    "def main(args):\n",
    "    if not osp.exists(args.image_path):\n",
    "        raise FileNotFoundError('input image file not found')\n",
    "        \n",
    "    img = cv2.imread(args.image_path)\n",
    "    \n",
    "    if args.width < 1 or args.height < 1:\n",
    "        raise ValueError('target width or height not valid')\n",
    "    \n",
    "    img_resized = _process_image(img, args.width, args.height, METHODS[args.method])\n",
    "    \n",
    "    name, ext = osp.splitext(args.image_path)\n",
    "    savepath = name + '-%dx%d' % (args.width, args.height) + ext\n",
    "    \n",
    "    cv2.imwrite(savepath, img_resized)"
   ]
  },
  {
   "cell_type": "code",
   "execution_count": 4,
   "metadata": {},
   "outputs": [],
   "source": [
    "cmds = [\n",
    "    'dinotaeng.png',\n",
    "    '--width', '500',\n",
    "    '--height', '500',\n",
    "    '--method', 'area'\n",
    "]"
   ]
  },
  {
   "cell_type": "code",
   "execution_count": 5,
   "metadata": {},
   "outputs": [
    {
     "name": "stdout",
     "output_type": "stream",
     "text": [
      "(w, h): (1242, 1363) -> (500, 500)\n"
     ]
    }
   ],
   "source": [
    "if __name__ == '__main__':\n",
    "    parser = argparse.ArgumentParser('Image Resizer')\n",
    "    parser.add_argument('image_path', metavar='PATH', type=str, help='input image path')\n",
    "    parser.add_argument('--width', metavar='WIDTH', type=int, default=500, help='target width')\n",
    "    parser.add_argument('--height', metavar='HEIGHT', type=int, default=500, help='target height')\n",
    "    parser.add_argument('--method', metavar='METHOD', type=str, choices=list(METHODS.keys()), default='linear')\n",
    "    \n",
    "    args = parser.parse_args(cmds)\n",
    "    \n",
    "    main(args)"
   ]
  },
  {
   "cell_type": "code",
   "execution_count": null,
   "metadata": {},
   "outputs": [],
   "source": []
  }
 ],
 "metadata": {
  "kernelspec": {
   "display_name": "Python 3.7.4",
   "language": "python",
   "name": "python3.7.4"
  },
  "language_info": {
   "codemirror_mode": {
    "name": "ipython",
    "version": 3
   },
   "file_extension": ".py",
   "mimetype": "text/x-python",
   "name": "python",
   "nbconvert_exporter": "python",
   "pygments_lexer": "ipython3",
   "version": "3.7.4"
  }
 },
 "nbformat": 4,
 "nbformat_minor": 4
}
